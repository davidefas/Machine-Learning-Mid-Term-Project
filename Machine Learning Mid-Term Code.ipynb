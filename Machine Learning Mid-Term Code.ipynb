{
  "nbformat": 4,
  "nbformat_minor": 0,
  "metadata": {
    "colab": {
      "provenance": []
    },
    "kernelspec": {
      "name": "python3",
      "display_name": "Python 3"
    },
    "language_info": {
      "name": "python"
    }
  },
  "cells": [
    {
      "cell_type": "code",
      "source": [
        "import pandas as pd\n",
        "from sklearn.preprocessing import StandardScaler, MinMaxScaler, LabelEncoder\n",
        "\n",
        "df = pd.read_csv(\"heart.csv\")\n",
        "\n",
        "print(\"Before processing:\")\n",
        "print(df.head())\n",
        "\n",
        "df['age_group'] = pd.cut(df['age'], bins=[0, 35, 45, 55, 65, 100],\n",
        "                         labels=['<35', '35-44', '45-54', '55-64', '65+'])\n",
        "if 'chol' in df.columns:\n",
        "    df['chol_per_age'] = df['chol'] / df['age']\n",
        "if 'trestbps' in df.columns and 'chol' in df.columns:\n",
        "    df['bp_chol_ratio'] = df['trestbps'] / df['chol']\n",
        "\n",
        "for col in df.columns:\n",
        "    if df[col].dtype == 'object' or str(df[col].dtype) == 'category':\n",
        "        df[col] = df[col].fillna(df[col].mode()[0])\n",
        "    else:\n",
        "        df[col] = df[col].fillna(df[col].mean())\n",
        "\n",
        "cat_cols = df.select_dtypes(include=['object', 'category']).columns\n",
        "for col in cat_cols:\n",
        "    if df[col].nunique() <= 2:\n",
        "        df[col] = LabelEncoder().fit_transform(df[col])\n",
        "    else:\n",
        "        df = pd.get_dummies(df, columns=[col], drop_first=True)\n",
        "\n",
        "num_cols = df.select_dtypes(include=['float64', 'int64']).columns\n",
        "df[num_cols] = StandardScaler().fit_transform(df[num_cols])\n",
        "df[num_cols] = MinMaxScaler().fit_transform(df[num_cols])\n",
        "\n",
        "print(\"\\nAfter processing:\")\n",
        "print(df.head())\n"
      ],
      "metadata": {
        "id": "8vset7EICEHk"
      },
      "execution_count": null,
      "outputs": []
    }
  ]
}